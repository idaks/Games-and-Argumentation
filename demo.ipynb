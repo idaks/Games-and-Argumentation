{
 "cells": [
  {
   "cell_type": "markdown",
   "id": "5011a64c-9e2d-4707-ba3d-04a5d62ba47a",
   "metadata": {},
   "source": [
    "# Game and Argumentation: Time for a Family Reunion"
   ]
  },
  {
   "cell_type": "markdown",
   "id": "d30cac6b-c6ae-4f9a-a5c9-c1ccf2f35edd",
   "metadata": {},
   "source": [
    "This notebook aims to demonstrate the paper \"Game and Argumentation: Time for a Family Reunion\" accepted by XLoKR 2023"
   ]
  },
  {
   "cell_type": "markdown",
   "id": "6be3e51a-4c43-417a-bf6e-c1144a0b6230",
   "metadata": {},
   "source": [
    "Lets start with a move graph"
   ]
  },
  {
   "cell_type": "markdown",
   "id": "e691e852-cd8d-4f17-9b52-826eb0e08bc0",
   "metadata": {},
   "source": [
    "![image](files/move_graph.png)"
   ]
  },
  {
   "cell_type": "markdown",
   "id": "3f478219-2edc-4dfc-a8d6-be976101ae5e",
   "metadata": {},
   "source": [
    "The move graph above defines a game $G = (V, E)$ with positions $V$ and moves $E$. Based on the $win(X) ← move(X, Y ), ¬ win(Y ).$, we can solve this game by\n",
    "1) Identifying sink nodes, or lost positions which did not have outgoing moves\n",
    "2) Iteratively running the following\n",
    "- Position $x$ is green (won) if $∃ move x → y$ and position $y$ is already red (lost)\n",
    "- Position $x$ is red (lost) if $∀ move x → y$ and position $y$ is already green (lost)"
   ]
  },
  {
   "cell_type": "markdown",
   "id": "76d1ca0b-f313-4dd5-b79a-bbd7f1f80e74",
   "metadata": {},
   "source": [
    "## Graphs to Facts"
   ]
  },
  {
   "cell_type": "markdown",
   "id": "13b4ba88-a99b-4f5c-afd0-4c539bcd70dd",
   "metadata": {},
   "source": [
    "To help future reasoning, here we turn the graphs into facts"
   ]
  },
  {
   "cell_type": "code",
   "execution_count": 1,
   "id": "3b47ff79-81fe-4460-8195-28dc9ea74285",
   "metadata": {},
   "outputs": [
    {
     "name": "stdout",
     "output_type": "stream",
     "text": [
      "Overwriting files/move_graph.dlv\n"
     ]
    }
   ],
   "source": [
    "%%file files/move_graph.dlv\n",
    "\n",
    "m(a,b).\n",
    "m(a,c).\n",
    "m(k,l).\n",
    "m(c,d).\n",
    "m(c,e).\n",
    "m(l,e).\n",
    "m(l,m).\n",
    "m(d,e).\n",
    "m(e,d).\n",
    "m(e,m).\n",
    "m(m,e).\n",
    "m(d,f).\n",
    "m(d,g).\n",
    "m(g,d).\n",
    "m(e,h).\n",
    "m(m,n).\n",
    "m(n,m)."
   ]
  },
  {
   "cell_type": "code",
   "execution_count": 2,
   "id": "9f5b0419-53c8-42d7-85ac-52c344600f57",
   "metadata": {},
   "outputs": [
    {
     "name": "stdout",
     "output_type": "stream",
     "text": [
      "Overwriting files/game.dlv\n"
     ]
    }
   ],
   "source": [
    "%%file files/game.dlv\n",
    "\n",
    "% Positions\n",
    "p(X) :- m(X,_).\n",
    "p(X) :- m(_,X).\n",
    "\n",
    "% win_u: underestimate of WON positions\n",
    "u(S1, X) :-\n",
    "\tm(X,Y),\n",
    "\tnot o(S,Y),\n",
    "\tnxt(S,S1). % S1 = S + 1\n",
    "\n",
    "%: win_o: overestimate of WON positions\n",
    "o(S, X) :-\n",
    "\tm(X,Y),\n",
    "\tnot u(S,Y),\n",
    "\tnxt(S,_).\n",
    "% GREEN (won) positions \n",
    "g(X) :-\n",
    "\tfg(_,X).  \n",
    "\n",
    "% YELLOW (drawn) positions\n",
    "y(X) :-\n",
    "\tp(X),\n",
    "\tnot g(X),\n",
    "\tnot r(X).\n",
    "\n",
    "% RED (lost) positions\n",
    "r(X) :- fr(_,X).\n",
    "\n",
    "% State generation for AFP \n",
    "nxt(0,1).\n",
    "nxt(S,S1) :-\t\t\t% S1 (=S+1) is a state,\n",
    "\tnxt(_,S),\t\t% ... if S is a state\n",
    "\tchg(S),\t\t\t% ... which changes\n",
    "\tS1=S+1.    \n",
    "\n",
    "% change(S)\n",
    "chg(0).\t\t\t\t% in 0 there is change\n",
    "chg(S) :-\t\t\t% in S there is change\n",
    "\tfg(S,_).\t\t% ... if there is some FirstGreen\n",
    "\n",
    "% final(S)\n",
    "fin(S) :-\t\t\t% S is the final state\n",
    "\tnxt(_,S),     \n",
    "\tnot chg(S).\t\t% ... if there is no change in S\n",
    "\n",
    "% FirstGreen(State, Position)\n",
    "fg(S1,X) :- \t\t       % position X is first green in S1 (=S+1)\n",
    "\tnxt(S,S1),\n",
    "\tu(S1,X),               % ... if win_u(S1,X)\n",
    "\tnot u(S,X).            % ... but not win_u(S,X)\n",
    "\n",
    "% FirstRed(State, Position)\n",
    "fr(0,X) :-                     % X is first red in 0\n",
    "\tp(X),                  % ... if X is a position\n",
    "\tnot o(0,X).            % ... that isn't even in the first overestimate (at 0)\n",
    "\n",
    "fr(S1,X) :-                    % X is first red in S1 (=S+1)\n",
    "\tnxt(S,S1),\n",
    "\to(S,X),                % ... if X was in the previous overestimate win_o(S,X)\n",
    "\tnot o(S1,X),           % ... but isn't now in win_o(S1,X)\n",
    "\tnot fin(S1).           % but exclude final state (we don't compute o(Final,...) )\n",
    "%\tnot u(S1,X).           \n",
    "\n",
    "\n",
    "\n",
    "\n",
    "% node(Color, State, Position)\n",
    "node(g,S,X) :- fg(S,X).\n",
    "node(r,S,X) :- fr(S,X).\n",
    "node(y,S,X) :- y(X),fin(S).\n",
    "\n",
    "\n",
    "outn(gr,S1,X,Y) :-\n",
    "\tm(X,Y), nxt(S,S1),\n",
    "\tg(X), fr(S,Y).\t\t% GREEN --(s+1)--> FIRST-RED(s) \n",
    "outn(rg,S,X,Y) :- m(X,Y), r(X), fg(S,Y).\n",
    "\n",
    "out(gg,X,Y) :- m(X,Y), g(X), g(Y).\n",
    "out(gy,X,Y) :- m(X,Y), g(X), y(Y).\n",
    "out(yg,X,Y) :- m(X,Y), y(X), g(Y).\n",
    "% out(x,X,Y) :- m(X,Y), r(X), r(Y).\n",
    "% out(x,X,Y) :- m(X,Y), r(X), y(Y).\n",
    "% out(x,X,Y) :- m(X,Y), y(X), r(Y).\n",
    "out(yy,X,Y) :- m(X,Y), y(X), y(Y)."
   ]
  },
  {
   "cell_type": "code",
   "execution_count": 5,
   "id": "95edfc2a-a8e3-4109-83bd-09b9c0802f90",
   "metadata": {},
   "outputs": [
    {
     "name": "stdout",
     "output_type": "stream",
     "text": [
      "Error: unknown command \"files/win_move.dlv\" for \"dlv\"\n",
      "Run 'dlv --help' for usage.\n"
     ]
    }
   ],
   "source": []
  },
  {
   "cell_type": "code",
   "execution_count": null,
   "id": "f09f1f21-c9ff-47c7-9a44-a0c0aa07b6da",
   "metadata": {},
   "outputs": [],
   "source": []
  }
 ],
 "metadata": {
  "kernelspec": {
   "display_name": "Python 3 (ipykernel)",
   "language": "python",
   "name": "python3"
  },
  "language_info": {
   "codemirror_mode": {
    "name": "ipython",
    "version": 3
   },
   "file_extension": ".py",
   "mimetype": "text/x-python",
   "name": "python",
   "nbconvert_exporter": "python",
   "pygments_lexer": "ipython3",
   "version": "3.10.4"
  }
 },
 "nbformat": 4,
 "nbformat_minor": 5
}
