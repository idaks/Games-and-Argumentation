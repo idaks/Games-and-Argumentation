{
 "cells": [
  {
   "cell_type": "markdown",
   "id": "3be1f78e-b174-4535-8472-3e23ccd49573",
   "metadata": {},
   "source": [
    "# Tutorials"
   ]
  },
  {
   "cell_type": "markdown",
   "id": "09bfc2ca-2f25-44d6-bb37-12da3369ebbd",
   "metadata": {},
   "source": [
    "This tutorial aims to get users familiar with different functions for **GameArg**"
   ]
  },
  {
   "cell_type": "markdown",
   "id": "7fc41e6d-bb20-4608-83af-1fab9b25511c",
   "metadata": {},
   "source": [
    "### Import Package"
   ]
  },
  {
   "cell_type": "code",
   "execution_count": 1,
   "id": "4c4b5a8e-e30c-4f35-aabe-292c2b6bd97c",
   "metadata": {},
   "outputs": [],
   "source": [
    "from GameArg import *\n",
    "from IPython.display import display, Image"
   ]
  },
  {
   "cell_type": "markdown",
   "id": "3b583ab3-6475-4a55-a274-a191804ea255",
   "metadata": {},
   "source": [
    "## Graph Input"
   ]
  },
  {
   "cell_type": "markdown",
   "id": "fac0c399-f22e-4b16-9f97-49cfe311a237",
   "metadata": {},
   "source": [
    "To examine the capabilities within GameArg, we can employ the following method to create a random graph with distinct edges, based on a specified number of nodes and edges.<br>\n",
    "Notes:\n",
    "- The node count should be at least 2 and no more than 26, as we currently support a maximum of 26 alphabets.\n",
    "- The number of edges must not surpass the maximum unique edges possible generate"
   ]
  },
  {
   "cell_type": "code",
   "execution_count": 2,
   "id": "de9bc316-c64d-447c-a12f-1ea890fefe2c",
   "metadata": {},
   "outputs": [],
   "source": [
    "generate_unique_edges(node_count=2, edge_count=2)"
   ]
  },
  {
   "cell_type": "markdown",
   "id": "f5ed3840-6ede-4950-903b-612ec26ead54",
   "metadata": {},
   "source": [
    "## Graph Generation"
   ]
  },
  {
   "cell_type": "markdown",
   "id": "18e3da67-0a6f-49b0-bf56-80fa11688f7e",
   "metadata": {},
   "source": [
    "**Win-Move Graph**"
   ]
  },
  {
   "cell_type": "code",
   "execution_count": 3,
   "id": "705550f1-df65-45c4-9260-140bf9a10180",
   "metadata": {},
   "outputs": [],
   "source": [
    "create_plain_graph(\"files/plain_wm_graph.dlv\", \"edge\", \"graphs/wm_graph.dot\")"
   ]
  },
  {
   "cell_type": "code",
   "execution_count": 4,
   "id": "fca2a9a5-037d-4fa9-b5e0-eb79d83a147c",
   "metadata": {},
   "outputs": [
    {
     "data": {
      "image/png": "[encoded data removed]",
      "text/plain": [
       "<IPython.core.display.Image object>"
      ]
     },
     "execution_count": 4,
     "metadata": {},
     "output_type": "execute_result"
    }
   ],
   "source": [
    "render_dot_to_png(\"graphs/wm_graph.dot\", \"graphs/wm_graph.png\")\n",
    "Image(\"graphs/wm_graph.png\")"
   ]
  },
  {
   "cell_type": "markdown",
   "id": "ddfe3e90-925b-4633-ba24-4cacb9e09a7e",
   "metadata": {},
   "source": [
    "**Attack_Graph**"
   ]
  },
  {
   "cell_type": "code",
   "execution_count": 5,
   "id": "8d92214e-4122-4a4a-8bc0-f3d38c55613a",
   "metadata": {},
   "outputs": [],
   "source": [
    "create_plain_graph(\n",
    "    \"files/plain_wm_graph.dlv\", \"edge\", \"graphs/attack_graph.dot\", arg=True\n",
    ")"
   ]
  },
  {
   "cell_type": "code",
   "execution_count": 6,
   "id": "67c1cdd4-9002-4beb-8b26-ad2e00ed7e35",
   "metadata": {},
   "outputs": [
    {
     "data": {
      "image/png": "[encoded data removed]",
      "text/plain": [
       "<IPython.core.display.Image object>"
      ]
     },
     "execution_count": 6,
     "metadata": {},
     "output_type": "execute_result"
    }
   ],
   "source": [
    "render_dot_to_png(\"graphs/attack_graph.dot\", \"graphs/attack_graph.png\")\n",
    "Image(\"graphs/attack_graph.png\")"
   ]
  },
  {
   "cell_type": "markdown",
   "id": "492a8dc3-da3a-4f46-8a19-7cfed33d2089",
   "metadata": {},
   "source": [
    "## Graph Coloring : Well-Founded Semantics"
   ]
  },
  {
   "cell_type": "markdown",
   "id": "2c720bfa-476d-4365-8d6f-ab3c3d8b21eb",
   "metadata": {},
   "source": [
    "Here we will use the kernel as an example to help you better understand the tool"
   ]
  },
  {
   "cell_type": "markdown",
   "id": "1284b256-d1c5-425d-baba-c8af9ad02ef3",
   "metadata": {},
   "source": [
    "### Step by Step"
   ]
  },
  {
   "cell_type": "markdown",
   "id": "8b39fb77-3879-41e3-857e-264d16687e34",
   "metadata": {},
   "source": [
    "#### Get Node Status"
   ]
  },
  {
   "cell_type": "markdown",
   "id": "39fd29ab-eeaf-423e-8858-359038a1091d",
   "metadata": {},
   "source": [
    "To standardize the process of calculation, we use `e` instead of `edge` therefore for wm graph `e(X,Y) :- edge(X,Y).`"
   ]
  },
  {
   "cell_type": "code",
   "execution_count": 7,
   "id": "c18251e0-dd3c-48e0-99f8-411d1e7625d6",
   "metadata": {},
   "outputs": [
    {
     "name": "stdout",
     "output_type": "stream",
     "text": [
      "Overwriting files/plain_to_wm.dlv\n"
     ]
    }
   ],
   "source": [
    "%%file files/plain_to_wm.dlv\n",
    "\n",
    "e(X,Y):- edge(Y,X)."
   ]
  },
  {
   "cell_type": "markdown",
   "id": "3d525e34-186c-4c3d-b000-5b17973b2598",
   "metadata": {},
   "source": [
    "Later we define the Win-Move Calculation"
   ]
  },
  {
   "cell_type": "code",
   "execution_count": 8,
   "id": "85c3349e-9a00-4def-a4a4-47905c5e5c03",
   "metadata": {},
   "outputs": [
    {
     "name": "stdout",
     "output_type": "stream",
     "text": [
      "Overwriting files/cal_wm.dlv\n"
     ]
    }
   ],
   "source": [
    "%%file files/cal_wm.dlv\n",
    "\n",
    "% Positions\n",
    "pos(X) :- e(X,_).\n",
    "pos(X) :- e(_,X).\n",
    "\n",
    "% Kernel rules\n",
    "win(X) :- e(Y,X), lost(Y).         % X is in the kernel complement if there is an edge from X into the kernel (to Y)\n",
    "lost(X) :- pos(X), not win(X).\n",
    "drawn(X) :- pos(X), not win(X), not lost(X)."
   ]
  },
  {
   "cell_type": "markdown",
   "id": "0308e75a-bdbb-44ad-979f-a94d28be481d",
   "metadata": {},
   "source": [
    "`-wf` indicates that the dlv will use well-founded semantics"
   ]
  },
  {
   "cell_type": "code",
   "execution_count": 9,
   "id": "a601d8fb-ac9b-4384-a00c-5d6832b7a0b2",
   "metadata": {},
   "outputs": [],
   "source": [
    "cmd_solve = \"dlv files/plain_wm_graph.dlv files/plain_to_wm.dlv files/cal_wm.dlv -wf\""
   ]
  },
  {
   "cell_type": "markdown",
   "id": "5f53f7b1-9f21-40e2-8bc7-e2f1e21b7ea2",
   "metadata": {},
   "source": [
    "let's run it with DLV, we will get the following output"
   ]
  },
  {
   "cell_type": "code",
   "execution_count": 10,
   "id": "830663cf-2fa9-46f4-9b4d-34a1ed05463f",
   "metadata": {},
   "outputs": [
    {
     "data": {
      "text/plain": [
       "'DLV [build BEN/Dec 17 2012   gcc 4.6.1]\\n\\nTrue: {edge(b,a), edge(a,b), e(b,a), e(a,b), pos(b), pos(a)}\\nUndefined: {win(b), lost(b), win(a), lost(a), drawn(b), drawn(a)}\\n'"
      ]
     },
     "execution_count": 10,
     "metadata": {},
     "output_type": "execute_result"
    }
   ],
   "source": [
    "run_command(cmd_solve)"
   ]
  },
  {
   "cell_type": "markdown",
   "id": "809dcc8c-dbba-49de-a7e9-ddcf98500572",
   "metadata": {},
   "source": [
    "however, we need to filterout unnecessary information"
   ]
  },
  {
   "cell_type": "code",
   "execution_count": 11,
   "id": "cafa9f9a-3978-4266-a515-a5251075d377",
   "metadata": {},
   "outputs": [],
   "source": [
    "wm_nodes_status = get_nodes_status(\n",
    "    run_command(cmd_solve), node_types=[\"win\", \"lost\", \"drawn\"]\n",
    ")"
   ]
  },
  {
   "cell_type": "markdown",
   "id": "635f6be2-ab1f-4a63-b0dc-8eae005fa035",
   "metadata": {},
   "source": [
    "thus we know the status of each nodes, which we will use for further coloring the graph"
   ]
  },
  {
   "cell_type": "code",
   "execution_count": 12,
   "id": "ae6153f9-c0b0-4b26-9203-b0c02bcefdfc",
   "metadata": {},
   "outputs": [
    {
     "data": {
      "text/plain": [
       "{'win': [], 'lost': [], 'drawn': ['b', 'a']}"
      ]
     },
     "execution_count": 12,
     "metadata": {},
     "output_type": "execute_result"
    }
   ],
   "source": [
    "wm_nodes_status"
   ]
  },
  {
   "cell_type": "markdown",
   "id": "4a9ae9f1-8617-4643-be81-0fd241d00714",
   "metadata": {},
   "source": [
    "#### Visualization Schema"
   ]
  },
  {
   "cell_type": "code",
   "execution_count": 13,
   "id": "cc565a4e-656a-4a05-a102-66132f09dc37",
   "metadata": {},
   "outputs": [
    {
     "data": {
      "image/png": "[encoded data removed]",
      "text/plain": [
       "<IPython.core.display.Image object>"
      ]
     },
     "execution_count": 13,
     "metadata": {},
     "output_type": "execute_result"
    }
   ],
   "source": [
    "wm_node_color_wfs = {\"win\": \"green\", \"lost\": \"red\", \"drawn\": \"yellow\"}\n",
    "wm_edge_color_wfs = {\n",
    "    (\"green\", \"green\"): \"gray\",\n",
    "    (\"green\", \"yellow\"): \"gray\",\n",
    "    (\"yellow\", \"green\"): \"gray\",\n",
    "    (\"yellow\", \"yellow\"): \"yellow\",\n",
    "    (\"green\", \"red\"): \"green\",\n",
    "    (\"red\", \"green\"): \"red\",\n",
    "}\n",
    "apply_color_schema(\n",
    "    \"graphs/wm_graph.dot\",\n",
    "    \"wm\",\n",
    "    wm_nodes_status,\n",
    "    wm_node_color_wfs,\n",
    "    wm_edge_color_wfs,\n",
    ")\n",
    "Image(\"graphs/wm_graph_colored.png\")"
   ]
  },
  {
   "cell_type": "markdown",
   "id": "761dc38c-dcbf-4ebf-9c06-0b3aa0f19c0e",
   "metadata": {},
   "source": [
    "### One Function for All"
   ]
  },
  {
   "cell_type": "markdown",
   "id": "57e21aab-88eb-46f8-8ced-49da8ef580c1",
   "metadata": {},
   "source": [
    "As we have win_move graph and attack graph, we start to think about maybe we only need to provide the visualization schema and one function can provide us the expected graph"
   ]
  },
  {
   "cell_type": "markdown",
   "id": "24b1c00e-e114-4a9e-b07a-0e7ec159b9d5",
   "metadata": {},
   "source": [
    "**WM game**"
   ]
  },
  {
   "cell_type": "markdown",
   "id": "eb374cff-8c83-404c-89b5-28c7a70db4c1",
   "metadata": {},
   "source": [
    "We will unveil the `visualize_wfs` function to illustrate well-founded semantics, requiring the specification of three values along with their color coding. Conversely, for stable models, the `visualize_stb` function requires just two values to be provided."
   ]
  },
  {
   "cell_type": "code",
   "execution_count": 14,
   "id": "ce5de77e-80f0-4fdb-9bd1-865ee2bd64b2",
   "metadata": {},
   "outputs": [
    {
     "data": {
      "image/png": "[encoded data removed]",
      "text/plain": [
       "<IPython.core.display.Image object>"
      ]
     },
     "execution_count": 14,
     "metadata": {},
     "output_type": "execute_result"
    }
   ],
   "source": [
    "game_node_color_wfs = {\"win\": \"green\", \"lost\": \"red\", \"drawn\": \"yellow\"}\n",
    "game_edge_color_wfs = {\n",
    "    (\"green\", \"green\"): \"gray\",\n",
    "    (\"green\", \"yellow\"): \"gray\",\n",
    "    (\"yellow\", \"green\"): \"gray\",\n",
    "    (\"yellow\", \"yellow\"): \"yellow\",\n",
    "    (\"green\", \"red\"): \"green\",\n",
    "    (\"red\", \"green\"): \"red\",\n",
    "}\n",
    "visualize_wfs(\n",
    "    \"files/plain_wm_graph.dlv\",\n",
    "    \"game\",\n",
    "    game_node_color_wfs,\n",
    "    game_edge_color_wfs\n",
    ")\n",
    "Image(\"graphs/game_graph_colored.png\")"
   ]
  },
  {
   "cell_type": "markdown",
   "id": "eb67216c-c3dc-4c05-b1e3-8480e55e9d0c",
   "metadata": {},
   "source": [
    "Having chosen the color for the edges, you are now able to display either the node label or the edge label."
   ]
  },
  {
   "cell_type": "code",
   "execution_count": 15,
   "id": "73f79010-08da-468c-9038-91be690d4434",
   "metadata": {},
   "outputs": [
    {
     "data": {
      "image/png": "[encoded data removed]",
      "text/plain": [
       "<IPython.core.display.Image object>"
      ]
     },
     "execution_count": 15,
     "metadata": {},
     "output_type": "execute_result"
    }
   ],
   "source": [
    "game_node_color_wfs = {\"win\": \"green\", \"lost\": \"red\", \"drawn\": \"yellow\"}\n",
    "game_edge_color_wfs = {\n",
    "    (\"green\", \"green\"): \"gray\",\n",
    "    (\"green\", \"yellow\"): \"gray\",\n",
    "    (\"yellow\", \"green\"): \"gray\",\n",
    "    (\"yellow\", \"yellow\"): \"yellow\",\n",
    "    (\"green\", \"red\"): \"green\",\n",
    "    (\"red\", \"green\"): \"red\",\n",
    "}\n",
    "visualize_wfs(\n",
    "    \"files/plain_wm_graph.dlv\",\n",
    "    \"game\",\n",
    "    game_node_color_wfs,\n",
    "    game_edge_color_wfs,\n",
    "    show_edge_label=True,\n",
    "    show_node_label=True,\n",
    ")\n",
    "Image(\"graphs/game_graph_colored.png\")"
   ]
  },
  {
   "cell_type": "markdown",
   "id": "99e5e328-dceb-43d7-811f-41c6c3abe1ff",
   "metadata": {},
   "source": [
    "You can also add more layout to the graph"
   ]
  },
  {
   "cell_type": "code",
   "execution_count": 16,
   "id": "3f5928c9-c77c-40be-bf67-c94ad2b83bb2",
   "metadata": {},
   "outputs": [
    {
     "data": {
      "image/png": "[encoded data removed]",
      "text/plain": [
       "<IPython.core.display.Image object>"
      ]
     },
     "execution_count": 16,
     "metadata": {},
     "output_type": "execute_result"
    }
   ],
   "source": [
    "game_node_color_wfs = {\"win\": \"green\", \"lost\": \"red\", \"drawn\": \"yellow\"}\n",
    "game_edge_color_wfs = {\n",
    "    (\"green\", \"green\"): \"gray\",\n",
    "    (\"green\", \"yellow\"): \"gray\",\n",
    "    (\"yellow\", \"green\"): \"gray\",\n",
    "    (\"yellow\", \"yellow\"): \"yellow\",\n",
    "    (\"green\", \"red\"): \"green\",\n",
    "    (\"red\", \"green\"): \"red\",\n",
    "}\n",
    "visualize_wfs(\n",
    "    \"files/plain_wm_graph.dlv\",\n",
    "    \"game\",\n",
    "    game_node_color_wfs,\n",
    "    game_edge_color_wfs,\n",
    "    show_edge_label=True,\n",
    "    show_node_label=True,\n",
    "    rank=True\n",
    ")\n",
    "Image(\"graphs/game_graph_colored.png\")"
   ]
  },
  {
   "cell_type": "markdown",
   "id": "9d492b29-1723-47b4-bacd-9dd312a27321",
   "metadata": {},
   "source": [
    "**Argumentation**"
   ]
  },
  {
   "cell_type": "markdown",
   "id": "319755b0-f5f3-435f-8b60-3722c708d503",
   "metadata": {},
   "source": [
    "From the game graph, by adding `arg=True`, you can effortlessly obtain the argumentation framework version."
   ]
  },
  {
   "cell_type": "code",
   "execution_count": 17,
   "id": "ddad54f1-7dc6-4307-af38-da5dcfb96147",
   "metadata": {},
   "outputs": [
    {
     "data": {
      "image/png": "[encoded data removed]",
      "text/plain": [
       "<IPython.core.display.Image object>"
      ]
     },
     "execution_count": 17,
     "metadata": {},
     "output_type": "execute_result"
    }
   ],
   "source": [
    "arg_node_color_wfs = {\n",
    "    \"accepted\": \"blue\",\n",
    "    \"defeated\": \"orange\",\n",
    "    \"undefined\": \"yellow\",\n",
    "}\n",
    "arg_edge_color_wfs = {\n",
    "    (\"blue\", \"blue\"): \"gray\",\n",
    "    (\"blue\", \"yellow\"): \"gray\",\n",
    "    (\"yellow\", \"blue\"): \"gray\",\n",
    "    (\"yellow\", \"yellow\"): \"yellow\",\n",
    "    (\"blue\", \"orange\"): \"orange\",\n",
    "    (\"orange\", \"blue\"): \"blue\",\n",
    "}\n",
    "visualize_wfs(\n",
    "    \"files/plain_wm_graph.dlv\",\n",
    "    \"arg\",\n",
    "    arg_node_color_wfs,\n",
    "    arg_edge_color_wfs,\n",
    "    arg=True,\n",
    "    show_edge_label=True,\n",
    "    show_node_label=True,\n",
    "    rank=True\n",
    ")\n",
    "Image(\"graphs/arg_graph_colored.png\")"
   ]
  },
  {
   "cell_type": "markdown",
   "id": "158583b3-090a-472f-8f45-61143b405896",
   "metadata": {},
   "source": [
    "**Kernel and Graph Decomposition**"
   ]
  },
  {
   "cell_type": "code",
   "execution_count": 18,
   "id": "a6df7495-320c-4664-ba09-1952f619d661",
   "metadata": {},
   "outputs": [
    {
     "data": {
      "image/png": "[encoded data removed]",
      "text/plain": [
       "<IPython.core.display.Image object>"
      ]
     },
     "execution_count": 18,
     "metadata": {},
     "output_type": "execute_result"
    }
   ],
   "source": [
    "kernel_node_color_wfs = {\"c\": \"white\", \"k\": \"black\", \"pk\": \"gray\"}\n",
    "kernel_edge_color_wfs = {\n",
    "    (\"white\", \"white\"): \"gray\",\n",
    "    (\"white\", \"gray\"): \"gray\",\n",
    "    (\"gray\", \"white\"): \"gray\",\n",
    "    (\"gray\", \"gray\"): \"dark_blue\",\n",
    "    (\"white\", \"black\"): \"dark_gray\",\n",
    "    (\"black\", \"white\"): \"black\",\n",
    "}\n",
    "visualize_wfs(\n",
    "    \"files/plain_wm_graph.dlv\",\n",
    "    \"kernel\",\n",
    "    kernel_node_color_wfs,\n",
    "    kernel_edge_color_wfs\n",
    ")\n",
    "Image(\"graphs/kernel_graph_colored.png\")"
   ]
  },
  {
   "cell_type": "markdown",
   "id": "4e10f55d-9ffc-4e09-8670-17ae13694b38",
   "metadata": {},
   "source": [
    "### Graph Coloring: Stable Models"
   ]
  },
  {
   "cell_type": "markdown",
   "id": "3a6a3020-d285-46b9-8695-daf201050528",
   "metadata": {},
   "source": [
    "#### Get Node Status"
   ]
  },
  {
   "cell_type": "markdown",
   "id": "1b785852-5ed1-4202-9933-042918db5f74",
   "metadata": {},
   "source": [
    "similar to the WFS, but we need to remove the solve part `-wf`"
   ]
  },
  {
   "cell_type": "code",
   "execution_count": 19,
   "id": "ed2a0530-3af9-4e2b-b769-1850dd50e098",
   "metadata": {},
   "outputs": [],
   "source": [
    "cmd_solve = 'dlv files/plain_wm_graph.dlv files/plain_to_kernel.dlv files/cal_kernel.dlv -filter=\"k\"'"
   ]
  },
  {
   "cell_type": "markdown",
   "id": "900d5819-cab7-436c-8e0b-6e0ad4d9a926",
   "metadata": {},
   "source": [
    "let's run the command"
   ]
  },
  {
   "cell_type": "code",
   "execution_count": 20,
   "id": "4eb2e8b3-9610-43ac-82d2-a6321da8a26b",
   "metadata": {},
   "outputs": [
    {
     "name": "stdout",
     "output_type": "stream",
     "text": [
      "DLV [build BEN/Dec 17 2012   gcc 4.6.1]\n",
      "\n",
      "{k(a)}\n",
      "\n",
      "{k(b)}\n",
      "\n"
     ]
    }
   ],
   "source": [
    "print(run_command(cmd_solve))"
   ]
  },
  {
   "cell_type": "markdown",
   "id": "8d4b0ca5-118b-4996-af89-4284624d4167",
   "metadata": {},
   "source": [
    "After the command, we can get the possible worlds"
   ]
  },
  {
   "cell_type": "markdown",
   "id": "f5d0b809-27c9-4343-8e8e-df2c277d6055",
   "metadata": {},
   "source": [
    "#### One Function for All"
   ]
  },
  {
   "cell_type": "markdown",
   "id": "5f264754-6e5f-489d-96d8-893619f194be",
   "metadata": {},
   "source": [
    "Similar to the WFS, we also want to generate all the stable models with defined visualization schema"
   ]
  },
  {
   "cell_type": "markdown",
   "id": "ffd976ec-488d-42d8-ba29-940f5ee98093",
   "metadata": {},
   "source": [
    "**Stable Models for Kernel Graph**"
   ]
  },
  {
   "cell_type": "code",
   "execution_count": 21,
   "id": "084fe5ce-6bc3-40a3-a2e9-e1cdf4cea4fd",
   "metadata": {},
   "outputs": [
    {
     "data": {
      "text/html": [
       "<div style=\"text-align: center;\"><div style=\"display:inline-block; width: auto;\"><img src=\"graphs/kernel_pw1_graph_colored.png\" style=\"width: 100%; height: auto;\" /><div>pw1</div></div><div style=\"display:inline-block; width: auto;\"><img src=\"graphs/kernel_pw2_graph_colored.png\" style=\"width: 100%; height: auto;\" /><div>pw2</div></div></div>"
      ],
      "text/plain": [
       "<IPython.core.display.HTML object>"
      ]
     },
     "metadata": {},
     "output_type": "display_data"
    }
   ],
   "source": [
    "kernel_node_color_stb = {\"c\": \"white\", \"k\": \"black\"}\n",
    "kernel_edge_color_stb = {\n",
    "    (\"white\", \"white\"): \"gray\",\n",
    "    (\"white\", \"gray\"): \"gray\",\n",
    "    (\"gray\", \"white\"): \"gray\",\n",
    "    (\"gray\", \"gray\"): \"dark_yellow\",\n",
    "    (\"white\", \"black\"): \"dark_gray\",\n",
    "    (\"black\", \"white\"): \"black\",\n",
    "}\n",
    "visualize_stb(\n",
    "    \"files/plain_wm_graph.dlv\",\n",
    "    \"kernel\",\n",
    "    kernel_node_color_stb,\n",
    "    kernel_edge_color_stb,\n",
    "    show_node_label=True,\n",
    "    rank=True\n",
    ")"
   ]
  },
  {
   "cell_type": "markdown",
   "id": "bc07a18d-4f6f-411d-8dd2-b6931d9a3ab0",
   "metadata": {},
   "source": [
    "**Stable Models for WM Graph**"
   ]
  },
  {
   "cell_type": "code",
   "execution_count": 22,
   "id": "15134956-3be7-4c82-8212-0e8737eb9100",
   "metadata": {},
   "outputs": [
    {
     "data": {
      "text/html": [
       "<div style=\"text-align: center;\"><div style=\"display:inline-block; width: auto;\"><img src=\"graphs/game_pw1_graph_colored.png\" style=\"width: 100%; height: auto;\" /><div>pw1</div></div><div style=\"display:inline-block; width: auto;\"><img src=\"graphs/game_pw2_graph_colored.png\" style=\"width: 100%; height: auto;\" /><div>pw2</div></div></div>"
      ],
      "text/plain": [
       "<IPython.core.display.HTML object>"
      ]
     },
     "metadata": {},
     "output_type": "display_data"
    }
   ],
   "source": [
    "game_node_color_stb = {\"win\": \"green\", \"lost\": \"red\"}\n",
    "game_edge_color_stb = {\n",
    "    (\"green\", \"green\"): \"gray\",\n",
    "    (\"green\", \"yellow\"): \"gray\",\n",
    "    (\"yellow\", \"green\"): \"gray\",\n",
    "    (\"yellow\", \"yellow\"): \"yellow\",\n",
    "    (\"green\", \"red\"): \"green\",\n",
    "    (\"red\", \"green\"): \"red\",\n",
    "}\n",
    "visualize_stb(\n",
    "    \"files/plain_wm_graph.dlv\",\n",
    "    \"game\",\n",
    "    game_node_color_stb,\n",
    "    game_edge_color_stb,\n",
    "    show_node_label=True,\n",
    "    rank=True\n",
    ")"
   ]
  },
  {
   "cell_type": "markdown",
   "id": "2647b257-599b-45bd-8a89-1624052f9f76",
   "metadata": {},
   "source": [
    "**Stable Models for Attack Graph**"
   ]
  },
  {
   "cell_type": "code",
   "execution_count": 23,
   "id": "f55cf0f5-ee7b-40d0-86b3-5ab22656de58",
   "metadata": {},
   "outputs": [
    {
     "data": {
      "text/html": [
       "<div style=\"text-align: center;\"><div style=\"display:inline-block; width: auto;\"><img src=\"graphs/arg_pw1_graph_colored.png\" style=\"width: 100%; height: auto;\" /><div>pw1</div></div><div style=\"display:inline-block; width: auto;\"><img src=\"graphs/arg_pw2_graph_colored.png\" style=\"width: 100%; height: auto;\" /><div>pw2</div></div></div>"
      ],
      "text/plain": [
       "<IPython.core.display.HTML object>"
      ]
     },
     "metadata": {},
     "output_type": "display_data"
    }
   ],
   "source": [
    "arg_node_color_stb = {\n",
    "    \"accepted\": \"blue\",\n",
    "    \"defeated\": \"orange\",\n",
    "    \"undefined\": \"yellow\",\n",
    "}\n",
    "arg_edge_color_stb = {\n",
    "    (\"blue\", \"blue\"): \"gray\",\n",
    "    (\"blue\", \"yellow\"): \"gray\",\n",
    "    (\"yellow\", \"blue\"): \"gray\",\n",
    "    (\"yellow\", \"yellow\"): \"yellow\",\n",
    "    (\"blue\", \"orange\"): \"orange\",\n",
    "    (\"orange\", \"blue\"): \"blue\",\n",
    "}\n",
    "visualize_stb(\n",
    "    \"files/plain_wm_graph.dlv\",\n",
    "    \"arg\",\n",
    "    arg_node_color_stb,\n",
    "    arg_edge_color_stb,\n",
    "    arg=True,\n",
    "    show_node_label=True,\n",
    "    rank=True\n",
    ")"
   ]
  }
 ],
 "metadata": {
  "kernelspec": {
   "display_name": "Python 3 (ipykernel)",
   "language": "python",
   "name": "python3"
  },
  "language_info": {
   "codemirror_mode": {
    "name": "ipython",
    "version": 3
   },
   "file_extension": ".py",
   "mimetype": "text/x-python",
   "name": "python",
   "nbconvert_exporter": "python",
   "pygments_lexer": "ipython3",
   "version": "3.10.4"
  }
 },
 "nbformat": 4,
 "nbformat_minor": 5
}
