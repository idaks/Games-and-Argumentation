{
 "cells": [
  {
   "cell_type": "code",
   "execution_count": 1,
   "id": "6f418612-e3e2-428f-89da-51ecb4d2ec1b",
   "metadata": {},
   "outputs": [],
   "source": [
    "import clingo\n",
    "from gamearg import *\n",
    "from IPython.display import display, Image\n",
    "import pandas as pd"
   ]
  },
  {
   "cell_type": "markdown",
   "id": "58f657bc-fe9a-489e-98d7-2ffeca60631a",
   "metadata": {},
   "source": [
    "## Generating Graph "
   ]
  },
  {
   "cell_type": "markdown",
   "id": "a25a48bb-2abd-49b9-ad45-c7c0dfd5da54",
   "metadata": {},
   "source": [
    "With given `node_num`, program will be able to generate all possible edges"
   ]
  },
  {
   "cell_type": "code",
   "execution_count": 2,
   "id": "501713cb-27c9-4e90-af00-7e4f06f77a4a",
   "metadata": {},
   "outputs": [],
   "source": [
    "def graph_generating(node_num):\n",
    "    def on_model(m):\n",
    "        if str(m) == \"\":\n",
    "            possible_graphs.append(str(m))\n",
    "        else:\n",
    "            elements = str(m).split(\" \")\n",
    "            elements_with_dot = [element + \".\" for element in elements]\n",
    "            concatenated = \" \".join(elements_with_dot)\n",
    "            possible_graphs.append(concatenated)\n",
    "\n",
    "    graph_log = \"\"\"\n",
    "    #const n = {}.\n",
    "    node(1..n).\n",
    "    {{move(X,Y): node(X), node(Y)}}.\n",
    "    #show move/2.\n",
    "    \"\"\".format(node_num)\n",
    "    # print(graph_log)\n",
    "    ctl = clingo.Control()\n",
    "    ctl.configuration.solve.models = \"0\"\n",
    "    ctl.add(\"base\", [], graph_log)\n",
    "    ctl.ground([(\"base\", [])])\n",
    "    possible_graphs = []\n",
    "    ctl.solve(on_model=on_model)\n",
    "    return possible_graphs"
   ]
  },
  {
   "cell_type": "code",
   "execution_count": 3,
   "id": "461820f3-a747-408c-9a27-d90f924921e6",
   "metadata": {},
   "outputs": [],
   "source": [
    "possible_graphs = graph_generating(node_num=2)"
   ]
  },
  {
   "cell_type": "code",
   "execution_count": 4,
   "id": "a94f694c-c61f-45cf-83f8-e030cbc8417c",
   "metadata": {},
   "outputs": [
    {
     "data": {
      "text/plain": [
       "['',\n",
       " 'move(1,2).',\n",
       " 'move(2,1).',\n",
       " 'move(1,2). move(2,1).',\n",
       " 'move(2,2).',\n",
       " 'move(2,1). move(2,2).',\n",
       " 'move(1,2). move(2,2).',\n",
       " 'move(1,2). move(2,1). move(2,2).',\n",
       " 'move(1,1).',\n",
       " 'move(1,1). move(1,2).',\n",
       " 'move(1,1). move(2,2).',\n",
       " 'move(1,1). move(1,2). move(2,2).',\n",
       " 'move(1,1). move(2,1).',\n",
       " 'move(1,1). move(2,1). move(2,2).',\n",
       " 'move(1,1). move(1,2). move(2,1).',\n",
       " 'move(1,1). move(1,2). move(2,1). move(2,2).']"
      ]
     },
     "execution_count": 4,
     "metadata": {},
     "output_type": "execute_result"
    }
   ],
   "source": [
    "possible_graphs"
   ]
  },
  {
   "cell_type": "markdown",
   "id": "c47f133d-5148-4193-82f2-e93d2cddc2c5",
   "metadata": {},
   "source": [
    "## Digest into Game Solver"
   ]
  },
  {
   "cell_type": "markdown",
   "id": "f419c77a-3f93-4b1b-adcf-f80298686053",
   "metadata": {},
   "source": [
    "Based on the `possible_graphs`, we need to digest them into game_solver one by one and ensure that the result will be 3-valued (dir=back and forward)"
   ]
  },
  {
   "cell_type": "code",
   "execution_count": 5,
   "id": "da7b4060-77cd-453e-8bba-432bb8743aed",
   "metadata": {},
   "outputs": [
    {
     "name": "stdout",
     "output_type": "stream",
     "text": [
      "Here is the node number for M3-both: 3\n",
      "move(1,3). move(2,2).\n",
      "Here is the node number for M3-both: 3\n",
      "move(2,2). move(3,1).\n",
      "Here is the node number for M3-both: 3\n",
      "move(1,2). move(3,3).\n",
      "Here is the node number for M3-both: 3\n",
      "move(2,1). move(3,3).\n",
      "Here is the node number for M3-both: 3\n",
      "move(1,1). move(3,2).\n",
      "Here is the node number for M3-both: 3\n",
      "move(1,1). move(2,3).\n"
     ]
    }
   ],
   "source": [
    "columns = [\"node_number\", \"edge_number\", \"graph\", \"fw_node_wfs\", \"bw_node_wfs\"]\n",
    "graph_cal = pd.DataFrame(columns=columns)\n",
    "\n",
    "node_num = 1\n",
    "file_path = \"files/temp.lp\"\n",
    "while node_num<4:\n",
    "    possible_graphs = graph_generating(node_num)\n",
    "    if not possible_graphs or all(graph == \"\" for graph in possible_graphs):\n",
    "        node_num += 1\n",
    "        continue\n",
    "    else:\n",
    "        for graph in possible_graphs:\n",
    "            if graph == \"\":\n",
    "                continue\n",
    "            else:\n",
    "                try:\n",
    "                    with open(file_path, \"w\") as file:\n",
    "                        file.write(graph)\n",
    "                    fw_node_wfs_df = node_wfs_cal(file_path, \"game\", reverse=False)\n",
    "                    bw_node_wfs_df = node_wfs_cal(file_path, \"game\", reverse=True)\n",
    "                    \n",
    "                    #store the new_data into the dataframe\n",
    "                    new_data = pd.DataFrame({\n",
    "                        \"node_number\": node_num,\n",
    "                        \"edge_number\": len(graph.split(\".\")),\n",
    "                        \"graph\": graph,\n",
    "                        \"fw_node_wfs\": [set(fw_node_wfs_df[\"wfs\"])],\n",
    "                        \"bw_node_wfs\": [set(bw_node_wfs_df[\"wfs\"])]\n",
    "                    })\n",
    "                    graph_cal = pd.concat([graph_cal, new_data], ignore_index=True)\n",
    "                    if (\n",
    "                        len(set(fw_node_wfs_df[\"wfs\"])) == 3\n",
    "                        and len(set(bw_node_wfs_df[\"wfs\"])) == 3\n",
    "                    ):\n",
    "                        print(\"Here is the node number for M3-both: \" + str(node_num))\n",
    "                        print(graph)\n",
    "    \n",
    "                except Exception as e:\n",
    "                    print(f\"An error occurred while processing {graph}: {e}\")\n",
    "\n",
    "        node_num += 1"
   ]
  }
 ],
 "metadata": {
  "kernelspec": {
   "display_name": "Python 3 (ipykernel)",
   "language": "python",
   "name": "python3"
  },
  "language_info": {
   "codemirror_mode": {
    "name": "ipython",
    "version": 3
   },
   "file_extension": ".py",
   "mimetype": "text/x-python",
   "name": "python",
   "nbconvert_exporter": "python",
   "pygments_lexer": "ipython3",
   "version": "3.10.13"
  }
 },
 "nbformat": 4,
 "nbformat_minor": 5
}
