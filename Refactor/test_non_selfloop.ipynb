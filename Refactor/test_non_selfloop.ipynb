{
 "cells": [
  {
   "cell_type": "code",
   "execution_count": 1,
   "id": "5fc87f85-6917-45e8-81d9-7df9eaa01351",
   "metadata": {},
   "outputs": [],
   "source": [
    "from gamearg import *\n",
    "from IPython.display import display, Image"
   ]
  },
  {
   "cell_type": "code",
   "execution_count": 2,
   "id": "56176bac-aee6-41c0-a3e3-240f92178256",
   "metadata": {},
   "outputs": [],
   "source": [
    "clear_imgs_folder()"
   ]
  },
  {
   "cell_type": "code",
   "execution_count": 3,
   "id": "f7c4e686-56b5-49a2-b2e0-665c6a2454a1",
   "metadata": {},
   "outputs": [],
   "source": [
    "# You only need edit the following\n",
    "input_file = \"files/SET_example_2.lp\"\n",
    "# input_file = \"files/animal_wm_graph.lp\"\n",
    "keyword = \"game\" \n",
    "reverse = False \n",
    "gvz_version = \"unfactored\""
   ]
  },
  {
   "cell_type": "code",
   "execution_count": 4,
   "id": "a2f2b381-6958-4bc3-8ea5-cf649c8cfd3e",
   "metadata": {},
   "outputs": [
    {
     "data": {
      "image/png": "[encoded data removed]",
      "text/plain": [
       "<IPython.core.display.Image object>"
      ]
     },
     "execution_count": 4,
     "metadata": {},
     "output_type": "execute_result"
    }
   ],
   "source": [
    "show_wfs(input_file, keyword, reverse, gvz_version)"
   ]
  },
  {
   "cell_type": "code",
   "execution_count": 5,
   "id": "3e0daad3-b10b-4b82-b57d-6b1d11c96f67",
   "metadata": {},
   "outputs": [
    {
     "data": {
      "text/html": [
       "<div style=\"text-align: center;\"><div style=\"display: inline-block; width: auto; margin: 60px;\"><img src=\"imgs/SET_example_2/unfactored_forward_game_pw_1.png\" style=\"width: 100%; height: auto;\" alt=\"PW 1\" /><div>PW 1</div></div><div style=\"display: inline-block; width: auto; margin: 60px;\"><img src=\"imgs/SET_example_2/unfactored_forward_game_pw_2.png\" style=\"width: 100%; height: auto;\" alt=\"PW 2\" /><div>PW 2</div></div></div>"
      ],
      "text/plain": [
       "<IPython.core.display.HTML object>"
      ]
     },
     "metadata": {},
     "output_type": "display_data"
    }
   ],
   "source": [
    "show_stb(input_file, keyword, reverse, gvz_version)"
   ]
  },
  {
   "cell_type": "code",
   "execution_count": 6,
   "id": "99bf4720-1b48-47c5-9cf4-0028f531abe5",
   "metadata": {},
   "outputs": [],
   "source": [
    "wfs_stb_pws, df_wfs_stb=node_stb_cal(input_file, keyword, reverse=False)"
   ]
  },
  {
   "cell_type": "code",
   "execution_count": 7,
   "id": "090294b7-4b2c-4aac-80f3-bbada03fadc6",
   "metadata": {},
   "outputs": [
    {
     "data": {
      "text/html": [
       "<div>\n",
       "<style scoped>\n",
       "    .dataframe tbody tr th:only-of-type {\n",
       "        vertical-align: middle;\n",
       "    }\n",
       "\n",
       "    .dataframe tbody tr th {\n",
       "        vertical-align: top;\n",
       "    }\n",
       "\n",
       "    .dataframe thead th {\n",
       "        text-align: right;\n",
       "    }\n",
       "</style>\n",
       "<table border=\"1\" class=\"dataframe\">\n",
       "  <thead>\n",
       "    <tr style=\"text-align: right;\">\n",
       "      <th></th>\n",
       "      <th>node</th>\n",
       "      <th>state_id</th>\n",
       "      <th>wfs</th>\n",
       "      <th>pw_1</th>\n",
       "      <th>pw_2</th>\n",
       "    </tr>\n",
       "  </thead>\n",
       "  <tbody>\n",
       "    <tr>\n",
       "      <th>0</th>\n",
       "      <td>5</td>\n",
       "      <td>0</td>\n",
       "      <td>lost</td>\n",
       "      <td>lost</td>\n",
       "      <td>lost</td>\n",
       "    </tr>\n",
       "    <tr>\n",
       "      <th>1</th>\n",
       "      <td>3</td>\n",
       "      <td>1</td>\n",
       "      <td>won</td>\n",
       "      <td>won</td>\n",
       "      <td>won</td>\n",
       "    </tr>\n",
       "    <tr>\n",
       "      <th>2</th>\n",
       "      <td>2</td>\n",
       "      <td>1</td>\n",
       "      <td>won</td>\n",
       "      <td>won</td>\n",
       "      <td>won</td>\n",
       "    </tr>\n",
       "    <tr>\n",
       "      <th>3</th>\n",
       "      <td>1</td>\n",
       "      <td>∞</td>\n",
       "      <td>draw</td>\n",
       "      <td>lost</td>\n",
       "      <td>won</td>\n",
       "    </tr>\n",
       "    <tr>\n",
       "      <th>4</th>\n",
       "      <td>4</td>\n",
       "      <td>∞</td>\n",
       "      <td>draw</td>\n",
       "      <td>won</td>\n",
       "      <td>lost</td>\n",
       "    </tr>\n",
       "  </tbody>\n",
       "</table>\n",
       "</div>"
      ],
      "text/plain": [
       "  node state_id   wfs  pw_1  pw_2\n",
       "0    5        0  lost  lost  lost\n",
       "1    3        1   won   won   won\n",
       "2    2        1   won   won   won\n",
       "3    1        ∞  draw  lost   won\n",
       "4    4        ∞  draw   won  lost"
      ]
     },
     "execution_count": 7,
     "metadata": {},
     "output_type": "execute_result"
    }
   ],
   "source": [
    "df_wfs_stb"
   ]
  }
 ],
 "metadata": {
  "kernelspec": {
   "display_name": "Python 3 (ipykernel)",
   "language": "python",
   "name": "python3"
  },
  "language_info": {
   "codemirror_mode": {
    "name": "ipython",
    "version": 3
   },
   "file_extension": ".py",
   "mimetype": "text/x-python",
   "name": "python",
   "nbconvert_exporter": "python",
   "pygments_lexer": "ipython3",
   "version": "3.10.13"
  }
 },
 "nbformat": 4,
 "nbformat_minor": 5
}
