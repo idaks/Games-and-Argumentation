{
 "cells": [
  {
   "cell_type": "code",
   "execution_count": 1,
   "id": "08b9455d-88a4-4a6e-9392-0c9119290ef6",
   "metadata": {},
   "outputs": [],
   "source": [
    "from gamearg import *\n",
    "import clingo"
   ]
  },
  {
   "cell_type": "code",
   "execution_count": 2,
   "id": "9ac0355f-fc89-4d0c-9f71-8634bffd9927",
   "metadata": {},
   "outputs": [],
   "source": [
    "def generate_predicate_strings(df, pw_keyword):\n",
    "    try:\n",
    "        predicate_strings = []\n",
    "        for _, row in df.iterrows():\n",
    "            node_value = row['node']\n",
    "            node_status = row [pw_keyword]\n",
    "            predicate_string = f':- not len(\"{node_status}\",{node_value},_).'\n",
    "            predicate_strings.append(predicate_string)\n",
    "        return predicate_strings\n",
    "    except:\n",
    "        raise ValueError(f\"{pw_keyword} does not exist in the DataFrame\")\n",
    "\n",
    "\n",
    "def get_min_changes(input_file, pw_keyword, keyword, reverse):\n",
    "    wfs_stb_pws, df_wfs_stb=node_stb_cal(input_file, keyword, reverse)\n",
    "    enforce_log=\"\"\"\n",
    "    node(X) :- move(X,_).\n",
    "    node(Y) :- move(_,Y).\n",
    "    \n",
    "    {del(X,Y)}:- move(X,Y).\n",
    "    \n",
    "    edge(X,Y):- move(X,Y), not del(X,Y).\n",
    "    \n",
    "    % ensure that the graph with removed edge is a connected graph\n",
    "    e(X,Y):- edge(X,Y).\n",
    "    e(X,Y):- edge(Y,X).\n",
    "    connected(X,Y) :- e(X,Y).\n",
    "    connected(X,Y) :- connected(X,Z), e(Z,Y).\n",
    "    :- node(X), node(Y), not connected(X,Y), X!=Y.\n",
    "    \n",
    "    % calculate the draw, lost, won for the new graph\n",
    "    #const state_max = 100. \n",
    "    win_o(S, X) :- edge(X,Y), not win_u(S,Y), next(S,_). \n",
    "    win_u(S1,X) :- edge(X,Y), not win_o(S,Y), next(S,S1).\n",
    "    fg(S1,X) :- next(S,S1), not win_u(S,X), win_u(S1,X).\n",
    "    fr(0,X)  :- node(X), not win_o(0,X). \n",
    "    fr(S1,X) :- next(S,S1), not final(S), win_o(S,X), not win_o(S1,X). next(0,1). \n",
    "    next(S,S1) :- fg(S,X), S1 = S+1, S < state_max.\n",
    "    final(S) :- next(S,S1), not next(S1,_). \n",
    "    len(\"lost\",X,L)   :- fr(S,X), L = 2*S.   \n",
    "    len(\"won\",X,L)    :- fg(S,X), L = 2*S-1. \n",
    "    len(\"draw\",X,\"∞\") :- node(X), not len(\"lost\",X,_), not len(\"won\",X,_). \n",
    "    \n",
    "    % ensure no draw appears in the new graph\n",
    "    :- len(\"draw\",X,\"∞\").\n",
    "    \n",
    "    \"\"\"+\"\\n\".join(generate_predicate_strings(df_wfs_stb,pw_keyword)) +\"\\n\\n#show del/2.\"\n",
    "    ctl = clingo.Control()\n",
    "    ctl.configuration.solve.models = \"0\"\n",
    "    ctl.load(input_file)\n",
    "    ctl.add(\"base\", [], enforce_log)\n",
    "    ctl.ground([(\"base\", [])])\n",
    "    output = []\n",
    "    ctl.solve(on_model=lambda m: output.append(m.symbols(shown=True)))\n",
    "    return(min(output, key=len))"
   ]
  },
  {
   "cell_type": "code",
   "execution_count": 3,
   "id": "adb04499-2c6f-4563-a489-13669a128d6c",
   "metadata": {},
   "outputs": [
    {
     "data": {
      "image/png": "[encoded data removed]",
      "text/plain": [
       "<IPython.core.display.Image object>"
      ]
     },
     "execution_count": 3,
     "metadata": {},
     "output_type": "execute_result"
    }
   ],
   "source": [
    "input_file=\"files/double_loop.lp\"\n",
    "keyword=\"game\"\n",
    "reverse=False\n",
    "show_plain(input_file, keyword, reverse)"
   ]
  },
  {
   "cell_type": "code",
   "execution_count": 4,
   "id": "836d9372-f29b-495b-8d5d-7c8dd4ff498a",
   "metadata": {},
   "outputs": [
    {
     "data": {
      "image/png": "[encoded data removed]",
      "text/plain": [
       "<IPython.core.display.Image object>"
      ]
     },
     "execution_count": 4,
     "metadata": {},
     "output_type": "execute_result"
    }
   ],
   "source": [
    "show_wfs(input_file, keyword, reverse)"
   ]
  },
  {
   "cell_type": "code",
   "execution_count": 5,
   "id": "4d23fc12-321d-452e-858f-acf93c440093",
   "metadata": {},
   "outputs": [
    {
     "data": {
      "text/html": [
       "<div style=\"text-align: center;\"><div style=\"display: inline-block; width: auto; margin: 60px;\"><img src=\"imgs/double_loop/unfactored_forward_game_pw_1.png\" style=\"width: 100%; height: auto;\" alt=\"PW 1\" /><div>PW 1</div></div><div style=\"display: inline-block; width: auto; margin: 60px;\"><img src=\"imgs/double_loop/unfactored_forward_game_pw_2.png\" style=\"width: 100%; height: auto;\" alt=\"PW 2\" /><div>PW 2</div></div></div>"
      ],
      "text/plain": [
       "<IPython.core.display.HTML object>"
      ]
     },
     "metadata": {},
     "output_type": "display_data"
    }
   ],
   "source": [
    "show_stb(input_file, keyword, reverse)"
   ]
  },
  {
   "cell_type": "code",
   "execution_count": 6,
   "id": "aea79ad1-2ad4-42db-a1b2-40bac43fbd44",
   "metadata": {},
   "outputs": [
    {
     "name": "stdout",
     "output_type": "stream",
     "text": [
      "[del(b,a), del(b,c)]\n"
     ]
    }
   ],
   "source": [
    "print(get_min_changes(\"files/double_loop.lp\", \"pw_1\", keyword=\"game\", reverse=False))"
   ]
  },
  {
   "cell_type": "code",
   "execution_count": 7,
   "id": "b6d376a4-ddd3-4a58-9905-a1f113dcf021",
   "metadata": {},
   "outputs": [
    {
     "name": "stdout",
     "output_type": "stream",
     "text": [
      "[del(c,b)]\n"
     ]
    }
   ],
   "source": [
    "print(get_min_changes(\"files/double_loop.lp\", \"pw_2\", keyword=\"game\", reverse=False))"
   ]
  }
 ],
 "metadata": {
  "kernelspec": {
   "display_name": "Python 3 (ipykernel)",
   "language": "python",
   "name": "python3"
  },
  "language_info": {
   "codemirror_mode": {
    "name": "ipython",
    "version": 3
   },
   "file_extension": ".py",
   "mimetype": "text/x-python",
   "name": "python",
   "nbconvert_exporter": "python",
   "pygments_lexer": "ipython3",
   "version": "3.10.13"
  }
 },
 "nbformat": 4,
 "nbformat_minor": 5
}
