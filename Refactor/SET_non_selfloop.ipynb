{
 "cells": [
  {
   "cell_type": "code",
   "execution_count": 1,
   "id": "6f418612-e3e2-428f-89da-51ecb4d2ec1b",
   "metadata": {},
   "outputs": [],
   "source": [
    "import clingo\n",
    "from gamearg import *\n",
    "from IPython.display import display, Image\n",
    "import pandas as pd\n",
    "import concurrent\n",
    "from concurrent.futures import ThreadPoolExecutor\n",
    "import time"
   ]
  },
  {
   "cell_type": "markdown",
   "id": "58f657bc-fe9a-489e-98d7-2ffeca60631a",
   "metadata": {},
   "source": [
    "## Generating Graph "
   ]
  },
  {
   "cell_type": "markdown",
   "id": "a25a48bb-2abd-49b9-ad45-c7c0dfd5da54",
   "metadata": {},
   "source": [
    "With given `node_num`, program will be able to generate all possible edges"
   ]
  },
  {
   "cell_type": "code",
   "execution_count": 2,
   "id": "501713cb-27c9-4e90-af00-7e4f06f77a4a",
   "metadata": {},
   "outputs": [],
   "source": [
    "def graph_generating(node_num):\n",
    "    def on_model(m):\n",
    "        if str(m) == \"\":\n",
    "            possible_graphs.append(str(m))\n",
    "        else:\n",
    "            elements = str(m).split(\" \")\n",
    "            elements_with_dot = [element + \".\" for element in elements]\n",
    "            concatenated = \" \".join(elements_with_dot)\n",
    "            possible_graphs.append(concatenated)\n",
    "\n",
    "    graph_log = \"\"\"\n",
    "    #const n = {}.\n",
    "    node(1..n).\n",
    "    {{move(X,Y): node(X), node(Y),X!=Y}}.\n",
    "    #show move/2.\n",
    "    \"\"\".format(node_num)\n",
    "    # print(graph_log)\n",
    "    ctl = clingo.Control()\n",
    "    ctl.configuration.solve.models = \"0\"\n",
    "    ctl.add(\"base\", [], graph_log)\n",
    "    ctl.ground([(\"base\", [])])\n",
    "    possible_graphs = []\n",
    "    ctl.solve(on_model=on_model)\n",
    "    return possible_graphs"
   ]
  },
  {
   "cell_type": "code",
   "execution_count": 3,
   "id": "461820f3-a747-408c-9a27-d90f924921e6",
   "metadata": {},
   "outputs": [],
   "source": [
    "possible_graphs = graph_generating(node_num=2)"
   ]
  },
  {
   "cell_type": "code",
   "execution_count": 4,
   "id": "a94f694c-c61f-45cf-83f8-e030cbc8417c",
   "metadata": {},
   "outputs": [
    {
     "data": {
      "text/plain": [
       "['', 'move(2,1).', 'move(1,2).', 'move(1,2). move(2,1).']"
      ]
     },
     "execution_count": 4,
     "metadata": {},
     "output_type": "execute_result"
    }
   ],
   "source": [
    "possible_graphs"
   ]
  },
  {
   "cell_type": "markdown",
   "id": "c47f133d-5148-4193-82f2-e93d2cddc2c5",
   "metadata": {},
   "source": [
    "## Digest into Game Solver"
   ]
  },
  {
   "cell_type": "markdown",
   "id": "f419c77a-3f93-4b1b-adcf-f80298686053",
   "metadata": {},
   "source": [
    "Based on the `possible_graphs`, we need to digest them into game_solver one by one and ensure that the result will be 3-valued (dir=back and forward)"
   ]
  },
  {
   "cell_type": "code",
   "execution_count": 5,
   "id": "cb8f867a-4b5a-4cf3-a513-a61e89e91340",
   "metadata": {},
   "outputs": [],
   "source": [
    "def nodes_connected(graph):\n",
    "    graph_log = f\"\"\"\n",
    "    {graph}\n",
    "    move(X,Y):- move(Y,X).\n",
    "    node(X):- move(X,_).\n",
    "    node(X):- move(_,X).\n",
    "    connected(X,Y) :- move(X,Y).\n",
    "    connected(X,Y) :- connected(X,Z), move(Z,Y).\n",
    "    :- node(X), node(Y), not connected(X,Y).\n",
    "    \"\"\"\n",
    "    ctl = clingo.Control()\n",
    "    ctl.configuration.solve.models = \"0\"\n",
    "    ctl.add(\"base\", [], graph_log)\n",
    "    ctl.ground([(\"base\", [])])\n",
    "    return(ctl.solve())"
   ]
  },
  {
   "cell_type": "code",
   "execution_count": null,
   "id": "da7b4060-77cd-453e-8bba-432bb8743aed",
   "metadata": {},
   "outputs": [],
   "source": [
    "columns = [\"node_number\", \"edge_number\", \"graph\", \"fw_node_wfs\", \"bw_node_wfs\", \"connected\"]\n",
    "graph_cal = pd.DataFrame(columns=columns)\n",
    "node_num = 1\n",
    "\n",
    "def process_graph(graph, node_num):\n",
    "    try:\n",
    "        fw_node_wfs_df = node_wfs_cal(graph, \"game\", reverse=False)\n",
    "        bw_node_wfs_df = node_wfs_cal(graph, \"game\", reverse=True)\n",
    "        return {\n",
    "            \"node_number\": node_num,\n",
    "            \"edge_number\": len(graph.split(\".\")) - 1,\n",
    "            \"graph\": graph,\n",
    "            \"fw_node_wfs\": set(fw_node_wfs_df[\"wfs\"]),\n",
    "            \"bw_node_wfs\": set(bw_node_wfs_df[\"wfs\"]),\n",
    "            \"connected\": str(nodes_connected(graph))\n",
    "        }\n",
    "    except Exception as e:\n",
    "        print(f\"An error occurred while processing {graph}: {e}\")\n",
    "        return None\n",
    "\n",
    "data_to_add = []\n",
    "with ThreadPoolExecutor(max_workers=5) as executor:\n",
    "    futures = []\n",
    "    for node_num in range(1, 6):\n",
    "        possible_graphs = graph_generating(node_num)\n",
    "        if not possible_graphs or all(graph == \"\" for graph in possible_graphs):\n",
    "            continue\n",
    "        for graph in possible_graphs:\n",
    "            if graph == \"\":\n",
    "                continue\n",
    "            else:\n",
    "                futures.append(executor.submit(process_graph, graph, node_num))\n",
    "    for future in concurrent.futures.as_completed(futures):\n",
    "        result = future.result()\n",
    "        if result:\n",
    "            data_to_add.append(result)\n",
    "graph_cal = pd.DataFrame(data_to_add, columns=columns)"
   ]
  },
  {
   "cell_type": "code",
   "execution_count": null,
   "id": "0027ac7a-030a-4ea5-a210-a07536eb273c",
   "metadata": {},
   "outputs": [],
   "source": [
    "graph_cal"
   ]
  },
  {
   "cell_type": "code",
   "execution_count": null,
   "id": "52919bd6-0515-48d8-b4c2-0f64fb49a502",
   "metadata": {},
   "outputs": [],
   "source": [
    "graph_cal['fw_len'] = graph_cal['fw_node_wfs'].apply(len)\n",
    "graph_cal['bw_len'] = graph_cal['bw_node_wfs'].apply(len)"
   ]
  },
  {
   "cell_type": "code",
   "execution_count": null,
   "id": "a5f815c8-db92-4b3f-ae4c-88c7ca2ee867",
   "metadata": {},
   "outputs": [],
   "source": [
    "graph_cal[(graph_cal[\"fw_len\"] == 3) & (graph_cal[\"bw_len\"] == 3)].sort_values([\"node_number\", \"edge_number\"])"
   ]
  },
  {
   "cell_type": "code",
   "execution_count": null,
   "id": "7aaa7aad-9200-45ce-aaf9-0df99567c6f4",
   "metadata": {},
   "outputs": [],
   "source": [
    "graph_cal[(graph_cal[\"fw_len\"] == 3) & (graph_cal[\"bw_len\"] == 3) & (graph_cal[\"connected\"] == \"SAT\")].sort_values([\"node_number\", \"edge_number\"])"
   ]
  },
  {
   "cell_type": "code",
   "execution_count": null,
   "id": "d3503cf3-8ef9-443b-8cb6-022809494c5f",
   "metadata": {},
   "outputs": [],
   "source": [
    "graph_cal.to_csv(\"graph_cal_non_selfloop.csv\")"
   ]
  }
 ],
 "metadata": {
  "kernelspec": {
   "display_name": "Python 3 (ipykernel)",
   "language": "python",
   "name": "python3"
  },
  "language_info": {
   "codemirror_mode": {
    "name": "ipython",
    "version": 3
   },
   "file_extension": ".py",
   "mimetype": "text/x-python",
   "name": "python",
   "nbconvert_exporter": "python",
   "pygments_lexer": "ipython3",
   "version": "3.10.13"
  }
 },
 "nbformat": 4,
 "nbformat_minor": 5
}
