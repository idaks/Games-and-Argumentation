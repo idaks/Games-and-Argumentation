{
 "cells": [
  {
   "cell_type": "markdown",
   "id": "5011a64c-9e2d-4707-ba3d-04a5d62ba47a",
   "metadata": {},
   "source": [
    "# Games and Argumentation: Time for a Family Reunion！"
   ]
  },
  {
   "cell_type": "markdown",
   "id": "d30cac6b-c6ae-4f9a-a5c9-c1ccf2f35edd",
   "metadata": {},
   "source": [
    "This notebook aims to demonstrate the paper \"Game and Argumentation: Time for a Family Reunion\" accepted by XLoKR 2023"
   ]
  },
  {
   "cell_type": "markdown",
   "id": "3f478219-2edc-4dfc-a8d6-be976101ae5e",
   "metadata": {},
   "source": [
    "The move graph above defines a game $G = (V, E)$ with positions $V$ and moves $E$. Based on the $win(X) ← move(X, Y ), ¬ win(Y ).$, we can solve this game by\n",
    "1) Identifying sink nodes, or lost positions which did not have outgoing moves\n",
    "2) Then we iteratively run the following rules:\n",
    "- Position $x$ is won (green) if $∃ y$ s.t. $move(x,y)$ and position $y$ is already lost (red)\n",
    "- Position $x$ is lost (red) if $∀ y$ if $move(x,y)$ then position $y$ is already won (green)"
   ]
  },
  {
   "cell_type": "markdown",
   "id": "99b437cf-4a16-4052-bc48-4103b1d7dec2",
   "metadata": {},
   "source": [
    "## Pre-Settings"
   ]
  },
  {
   "cell_type": "markdown",
   "id": "e5ec5326-f975-4541-aebb-4c2acba66f98",
   "metadata": {},
   "source": [
    "Package import"
   ]
  },
  {
   "cell_type": "code",
   "execution_count": 1,
   "id": "11c24345-58e3-4d7d-b8d3-ead1f33e4aa9",
   "metadata": {},
   "outputs": [],
   "source": [
    "from statelog_functions import *"
   ]
  },
  {
   "cell_type": "markdown",
   "id": "66057b22-a4dc-4120-b3b4-76b20e78ef25",
   "metadata": {},
   "source": [
    "Mode selection"
   ]
  },
  {
   "cell_type": "code",
   "execution_count": 2,
   "id": "ecf3016d-b2dd-4fc2-9d41-eb20c5cbb0a2",
   "metadata": {},
   "outputs": [],
   "source": [
    "mode = \"game\"\n",
    "# mode = \"argumentation\""
   ]
  },
  {
   "cell_type": "markdown",
   "id": "76d1ca0b-f313-4dd5-b79a-bbd7f1f80e74",
   "metadata": {},
   "source": [
    "## Move Graph"
   ]
  },
  {
   "cell_type": "markdown",
   "id": "13b4ba88-a99b-4f5c-afd0-4c539bcd70dd",
   "metadata": {},
   "source": [
    "To help future reasoning, here we turn the graphs into facts"
   ]
  },
  {
   "cell_type": "code",
   "execution_count": 3,
   "id": "3b47ff79-81fe-4460-8195-28dc9ea74285",
   "metadata": {},
   "outputs": [
    {
     "name": "stdout",
     "output_type": "stream",
     "text": [
      "Overwriting files/move_graph.dlv\n"
     ]
    }
   ],
   "source": [
    "%%file files/move_graph.dlv\n",
    "\n",
    "#maxint = 100.\n",
    "\n",
    "m(a,b).\n",
    "m(a,c).\n",
    "m(k,l).\n",
    "m(c,d).\n",
    "m(c,e).\n",
    "m(l,e).\n",
    "m(l,m).\n",
    "m(d,e).\n",
    "m(e,d).\n",
    "m(e,m).\n",
    "m(m,e).\n",
    "m(d,f).\n",
    "m(d,g).\n",
    "m(g,d).\n",
    "m(e,h).\n",
    "m(m,n).\n",
    "m(n,m)."
   ]
  },
  {
   "cell_type": "markdown",
   "id": "3fca8045-e9d5-4190-a93d-090b0079754d",
   "metadata": {
    "tags": []
   },
   "source": [
    "Extract Move Graph Structure"
   ]
  },
  {
   "cell_type": "code",
   "execution_count": 4,
   "id": "4f8c2447-d956-44c6-bd2a-0be77c17a10e",
   "metadata": {},
   "outputs": [],
   "source": [
    "edge_df=read_edges_from_file(\"files/move_graph.dlv\")"
   ]
  },
  {
   "cell_type": "markdown",
   "id": "86d45cd5-dedf-4628-a658-84e0d3437512",
   "metadata": {},
   "source": [
    "# Solve Game"
   ]
  },
  {
   "cell_type": "markdown",
   "id": "56cf2b52-1956-462d-9746-27ae018115e9",
   "metadata": {
    "tags": []
   },
   "source": [
    "### Game Solve Script (DLV)"
   ]
  },
  {
   "cell_type": "code",
   "execution_count": 5,
   "id": "9f5b0419-53c8-42d7-85ac-52c344600f57",
   "metadata": {},
   "outputs": [
    {
     "name": "stdout",
     "output_type": "stream",
     "text": [
      "Overwriting files/game_solve.dlv\n"
     ]
    }
   ],
   "source": [
    "%%file files/game_solve.dlv\n",
    "\n",
    "% Positions\n",
    "p(X) :- m(X,_).\n",
    "p(X) :- m(_,X).\n",
    "\n",
    "% win_u: underestimate of WON positions\n",
    "u(S1, X) :-\n",
    "    m(X,Y),\n",
    "\tnot o(S,Y),\n",
    "\tnxt(S,S1). % S1 = S + 1\n",
    "\n",
    "%: win_o: overestimate of WON positions\n",
    "o(S, X) :-\n",
    "\tm(X,Y),\n",
    "\tnot u(S,Y),\n",
    "\tnxt(S,_).\n",
    "% GREEN (won) positions \n",
    "g(X) :-\n",
    "\tfg(_,X).  \n",
    "\n",
    "% YELLOW (drawn) positions\n",
    "y(X) :-\n",
    "\tp(X),\n",
    "\tnot g(X),\n",
    "\tnot r(X).\n",
    "\n",
    "% RED (lost) positions\n",
    "r(X) :- fr(_,X).\n",
    "\n",
    "% State generation for AFP \n",
    "nxt(0,1).\n",
    "nxt(S,S1) :-\t\t\t% S1 (=S+1) is a state,\n",
    "\tnxt(_,S),\t\t% ... if S is a state\n",
    "\tchg(S),\t\t\t% ... which changes\n",
    "\tS1=S+1.    \n",
    "\n",
    "% change(S)\n",
    "chg(0).\t\t\t\t% in 0 there is change\n",
    "chg(S) :-\t\t\t% in S there is change\n",
    "\tfg(S,_).\t\t% ... if there is some FirstGreen\n",
    "\n",
    "% final(S)\n",
    "fin(S) :-\t\t\t% S is the final state\n",
    "\tnxt(_,S),     \n",
    "\tnot chg(S).\t\t% ... if there is no change in S\n",
    "\n",
    "% FirstGreen(State, Position)\n",
    "fg(S1,X) :- \t\t       % position X is first green in S1 (=S+1)\n",
    "\tnxt(S,S1),\n",
    "\tu(S1,X),               % ... if win_u(S1,X)\n",
    "\tnot u(S,X).            % ... but not win_u(S,X)\n",
    "\n",
    "% FirstRed(State, Position)\n",
    "fr(0,X) :-                     % X is first red in 0\n",
    "\tp(X),                  % ... if X is a position\n",
    "\tnot o(0,X).            % ... that isn't even in the first overestimate (at 0)\n",
    "\n",
    "fr(S1,X) :-                    % X is first red in S1 (=S+1)\n",
    "\tnxt(S,S1),\n",
    "\to(S,X),                % ... if X was in the previous overestimate win_o(S,X)\n",
    "\tnot o(S1,X),           % ... but isn't now in win_o(S1,X)\n",
    "\tnot fin(S1).           % but exclude final state (we don't compute o(Final,...) )\n",
    "%\tnot u(S1,X).           \n",
    "\n",
    "\n",
    "\n",
    "\n",
    "% node(Color, State, Position)\n",
    "node(g,S,X) :- fg(S,X).\n",
    "node(r,S,X) :- fr(S,X).\n",
    "node(y,S,X) :- y(X),fin(S).\n",
    "\n",
    "\n",
    "outn(gr,S1,X,Y) :-\n",
    "\tm(X,Y), nxt(S,S1),\n",
    "\tg(X), fr(S,Y).\t\t% GREEN --(s+1)--> FIRST-RED(s) \n",
    "outn(rg,S,X,Y) :- m(X,Y), r(X), fg(S,Y).\n",
    "\n",
    "out(gg,X,Y) :- m(X,Y), g(X), g(Y).\n",
    "out(gy,X,Y) :- m(X,Y), g(X), y(Y).\n",
    "out(yg,X,Y) :- m(X,Y), y(X), g(Y).\n",
    "% out(x,X,Y) :- m(X,Y), r(X), r(Y).\n",
    "% out(x,X,Y) :- m(X,Y), r(X), y(Y).\n",
    "% out(x,X,Y) :- m(X,Y), y(X), r(Y).\n",
    "out(yy,X,Y) :- m(X,Y), y(X), y(Y)."
   ]
  },
  {
   "cell_type": "code",
   "execution_count": 6,
   "id": "95edfc2a-a8e3-4109-83bd-09b9c0802f90",
   "metadata": {},
   "outputs": [
    {
     "name": "stdout",
     "output_type": "stream",
     "text": [
      "DLV [build BEN/Dec 17 2012   gcc 4.6.1]\n",
      "\n",
      "{node(r,0,b), node(r,0,f), node(r,0,h), node(g,1,a), node(g,1,d), node(g,1,e), node(r,1,c), node(r,1,g), node(y,2,k), node(y,2,l), node(y,2,m), node(y,2,n)}\n"
     ]
    }
   ],
   "source": [
    "!dlv files/move_graph.dlv files/game_solve.dlv -filter=\"node\""
   ]
  },
  {
   "cell_type": "markdown",
   "id": "bb55bf0d-a147-481a-bb6b-df92ca2c172d",
   "metadata": {},
   "source": [
    "### Process DLV Output"
   ]
  },
  {
   "cell_type": "markdown",
   "id": "89680630-340d-4e22-a2e2-4c3f6fd9f8a3",
   "metadata": {},
   "source": [
    "For a clear demonstration, we parse the output of DLV into a DataFrame"
   ]
  },
  {
   "cell_type": "code",
   "execution_count": 7,
   "id": "98647c42-7628-4762-84c2-98e62a4503b9",
   "metadata": {},
   "outputs": [],
   "source": [
    "cmd = \"dlv files/move_graph.dlv files/game_solve.dlv -filter='node',\"\n",
    "output = run_command(cmd)\n",
    "state_df = to_dataframe(output)\n",
    "redefined_state_df=redefine_states(state_df)"
   ]
  },
  {
   "cell_type": "markdown",
   "id": "952234d9-bae7-4569-80cc-265019e75640",
   "metadata": {},
   "source": [
    "## Color the Graph"
   ]
  },
  {
   "cell_type": "code",
   "execution_count": 8,
   "id": "6a3b2c90-320e-4195-a567-e35eceb38b89",
   "metadata": {},
   "outputs": [],
   "source": [
    "create_colored_graph(edge_df, redefined_state_df, mode, directory_path='output')\n",
    "generate_png_from_dot(directory='output')"
   ]
  },
  {
   "cell_type": "markdown",
   "id": "f571b9d8-6cc3-40e8-8e04-ccbd8e13f0f0",
   "metadata": {},
   "source": [
    "## Animation"
   ]
  },
  {
   "cell_type": "code",
   "execution_count": 9,
   "id": "84cef2c1-0754-4fbc-98a8-61d486fcb103",
   "metadata": {},
   "outputs": [
    {
     "data": {
      "application/vnd.jupyter.widget-view+json": {
       "model_id": "6d40dbb387574eceae5f4ee43441fdd7",
       "version_major": 2,
       "version_minor": 0
      },
      "text/plain": [
       "HBox(children=(Button(description='Previous', style=ButtonStyle()), Button(description='Next', style=ButtonSty…"
      ]
     },
     "metadata": {},
     "output_type": "display_data"
    },
    {
     "data": {
      "application/vnd.jupyter.widget-view+json": {
       "model_id": "85a5d2411ec54b288ffaa928139ce8f0",
       "version_major": 2,
       "version_minor": 0
      },
      "text/plain": [
       "IntSlider(value=0, description='Slide:', max=5)"
      ]
     },
     "metadata": {},
     "output_type": "display_data"
    },
    {
     "data": {
      "application/vnd.jupyter.widget-view+json": {
       "model_id": "059101b26463476e8e16ad7d73b23d49",
       "version_major": 2,
       "version_minor": 0
      },
      "text/plain": [
       "Output()"
      ]
     },
     "metadata": {},
     "output_type": "display_data"
    }
   ],
   "source": [
    "display_image_slider(directory='output')"
   ]
  }
 ],
 "metadata": {
  "kernelspec": {
   "display_name": "Python 3 (ipykernel)",
   "language": "python",
   "name": "python3"
  },
  "language_info": {
   "codemirror_mode": {
    "name": "ipython",
    "version": 3
   },
   "file_extension": ".py",
   "mimetype": "text/x-python",
   "name": "python",
   "nbconvert_exporter": "python",
   "pygments_lexer": "ipython3",
   "version": "3.10.4"
  }
 },
 "nbformat": 4,
 "nbformat_minor": 5
}
