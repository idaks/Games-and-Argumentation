{
 "cells": [
  {
   "cell_type": "markdown",
   "id": "5011a64c-9e2d-4707-ba3d-04a5d62ba47a",
   "metadata": {},
   "source": [
    "# Kernels and Beyond"
   ]
  },
  {
   "cell_type": "markdown",
   "id": "d30cac6b-c6ae-4f9a-a5c9-c1ccf2f35edd",
   "metadata": {},
   "source": [
    "Besides the demo for our XLoKR paper, we also want dive deeper into the concept kernels"
   ]
  },
  {
   "cell_type": "code",
   "execution_count": 1,
   "id": "8a109687-90a4-49ed-97ca-a672e960dc97",
   "metadata": {},
   "outputs": [],
   "source": [
    "from functions import *"
   ]
  },
  {
   "cell_type": "markdown",
   "id": "73c5bfea-a264-43e1-b3f2-eee3cefea05a",
   "metadata": {},
   "source": [
    "Let's go back to the graph $G = (V, E)$ "
   ]
  },
  {
   "cell_type": "code",
   "execution_count": 2,
   "id": "ffd83379-ceb6-431f-9012-e134b933b016",
   "metadata": {},
   "outputs": [
    {
     "name": "stdout",
     "output_type": "stream",
     "text": [
      "Overwriting files/plain_graph.dlv\n"
     ]
    }
   ],
   "source": [
    "%%file files/plain_graph.dlv\n",
    "\n",
    "edge(a,c).\n",
    "edge(k,l).\n",
    "edge(c,d).\n",
    "edge(c,e).\n",
    "edge(l,e).\n",
    "edge(l,m).\n",
    "edge(d,e).\n",
    "edge(e,d).\n",
    "edge(e,m).\n",
    "edge(m,e).\n",
    "edge(d,f).\n",
    "edge(d,g).\n",
    "edge(g,d).\n",
    "edge(e,h).\n",
    "edge(m,n).\n",
    "edge(n,m)."
   ]
  },
  {
   "cell_type": "markdown",
   "id": "5a61db70-dbb6-48f5-ac28-5d17b6992171",
   "metadata": {},
   "source": [
    "we already know that the graph for kernel calculation will be the same as plain graph. So we can directly reason on the plain graph to identify the kernels."
   ]
  },
  {
   "cell_type": "code",
   "execution_count": 3,
   "id": "6fd28cbf-c353-43f9-80e2-4843e3a9ba92",
   "metadata": {},
   "outputs": [
    {
     "name": "stdout",
     "output_type": "stream",
     "text": [
      "Overwriting files/cal_kernel.dlv\n"
     ]
    }
   ],
   "source": [
    "%%file files/cal_kernel.dlv\n",
    "\n",
    "%c represents complements of kernels\n",
    "%k stands for kernel\n",
    "%pk means possibly in or out of kernel\n",
    "\n",
    "% Positions\n",
    "pos(X) :- edge(X,_).\n",
    "pos(X) :- edge(_,X).\n",
    "\n",
    "% Kernel\n",
    "c(X) :- edge(X,Y),k(Y).\n",
    "k(X) :- pos(X), not c(X).\n",
    "pk(X) :- pos(X), not c(X), not k(X)."
   ]
  },
  {
   "cell_type": "markdown",
   "id": "07f07784-d457-4c7f-a11e-d4a4b8bdfe3d",
   "metadata": {},
   "source": [
    "### Well-Founded Semantics"
   ]
  },
  {
   "cell_type": "markdown",
   "id": "5c18acf4-d2ed-4baf-bb14-c379b11dc6fb",
   "metadata": {},
   "source": [
    "As illustrated in the demo session, we can get the status of nodes  with well founded semantics \n",
    "- k: kernel\n",
    "- c: completements_of_kernels\n",
    "- pk: possibly_in_or_out_of_kernel"
   ]
  },
  {
   "cell_type": "code",
   "execution_count": 4,
   "id": "69815a56-518a-43f3-8745-0dd246cc99c5",
   "metadata": {},
   "outputs": [],
   "source": [
    "cmd_solve = 'dlv files/plain_graph.dlv files/cal_kernel.dlv -wf'\n",
    "kernel_nodes_status = get_nodes_status(run_command(cmd_solve),node_types=[\"c\",\"k\",\"pk\"])"
   ]
  },
  {
   "cell_type": "code",
   "execution_count": 5,
   "id": "1f30aa7c-137c-4715-b31a-245009f1c6b7",
   "metadata": {},
   "outputs": [
    {
     "data": {
      "text/plain": [
       "{'c': ['a', 'd', 'e'], 'k': ['c', 'f', 'g', 'h'], 'pk': ['k', 'l', 'm', 'n']}"
      ]
     },
     "execution_count": 5,
     "metadata": {},
     "output_type": "execute_result"
    }
   ],
   "source": [
    "kernel_nodes_status"
   ]
  },
  {
   "cell_type": "markdown",
   "id": "caaf320d-1dd4-44c5-94e4-a41c6d742347",
   "metadata": {},
   "source": [
    "### Stable Model Semantics"
   ]
  },
  {
   "cell_type": "markdown",
   "id": "bf109a6a-9000-4125-842e-d2563d5dd701",
   "metadata": {},
   "source": [
    "What about stable models, can we calculate the number of possible sets of kernels?"
   ]
  },
  {
   "cell_type": "code",
   "execution_count": 6,
   "id": "a2c80fab-bda5-48ff-886d-922b7327e959",
   "metadata": {},
   "outputs": [
    {
     "name": "stdout",
     "output_type": "stream",
     "text": [
      "DLV [build BEN/Dec 17 2012   gcc 4.6.1]\n",
      "\n",
      "{k(c), k(k), k(m), k(f), k(g), k(h)}\n",
      "\n",
      "{k(c), k(l), k(f), k(g), k(h), k(n)}\n",
      "\n"
     ]
    }
   ],
   "source": [
    "cmd_solve = 'dlv files/plain_graph.dlv files/cal_kernel.dlv -filter=\"k\"'\n",
    "print(run_command(cmd_solve))"
   ]
  },
  {
   "cell_type": "markdown",
   "id": "ed8adac5-3c4e-4328-a090-9d5f77dba110",
   "metadata": {},
   "source": [
    "From the example above, we can get two set of possible kernels."
   ]
  },
  {
   "cell_type": "markdown",
   "id": "90d257b1-6125-48b2-8494-8d135f7e6db5",
   "metadata": {},
   "source": [
    "### Number of Kernels"
   ]
  },
  {
   "cell_type": "code",
   "execution_count": 7,
   "id": "b78891e1-d4b5-4147-8064-1fafc2df15f1",
   "metadata": {},
   "outputs": [
    {
     "data": {
      "text/plain": [
       "2"
      ]
     },
     "execution_count": 7,
     "metadata": {},
     "output_type": "execute_result"
    }
   ],
   "source": [
    "count_sets(run_command(cmd_solve))"
   ]
  },
  {
   "cell_type": "markdown",
   "id": "04477d10-695d-49b1-9524-5cc3a168e23f",
   "metadata": {},
   "source": [
    "# Use Case: 2<sup>K</sup> Example"
   ]
  },
  {
   "cell_type": "markdown",
   "id": "575ddb62-aede-480c-9917-6e20401e21ad",
   "metadata": {},
   "source": [
    "As we experienced the calculation process, let's reproduce the example illustrated in the Fraenkel's paper\n"
   ]
  },
  {
   "cell_type": "markdown",
   "id": "b8920702-b1e8-4bc0-af6e-ab4b3dc1d441",
   "metadata": {},
   "source": [
    "![](./img/figure.png)"
   ]
  },
  {
   "cell_type": "code",
   "execution_count": 8,
   "id": "c6a5af21-684b-4a00-8fa2-deb904efcdbd",
   "metadata": {},
   "outputs": [
    {
     "name": "stdout",
     "output_type": "stream",
     "text": [
      "Overwriting files/k_graph.dlv\n"
     ]
    }
   ],
   "source": [
    "%%file files/k_graph.dlv\n",
    "\n",
    "edge(a,b).\n",
    "edge(b,a).\n",
    "edge(c,d).\n",
    "edge(d,c).\n",
    "edge(f,e).\n",
    "edge(e,f).\n",
    "edge(m,n).\n",
    "edge(n,m).\n",
    "edge(i,b).\n",
    "edge(i,a).\n",
    "edge(i,e).\n",
    "edge(i,m)."
   ]
  },
  {
   "cell_type": "code",
   "execution_count": 9,
   "id": "a4db4517-fa49-4019-a5bb-d71b7e04c45b",
   "metadata": {},
   "outputs": [
    {
     "data": {
      "text/plain": [
       "16"
      ]
     },
     "execution_count": 9,
     "metadata": {},
     "output_type": "execute_result"
    }
   ],
   "source": [
    "cmd_solve = 'dlv files/k_graph.dlv files/cal_kernel.dlv -filter=\"k\"'\n",
    "count_sets(run_command(cmd_solve))"
   ]
  },
  {
   "cell_type": "code",
   "execution_count": 10,
   "id": "bf13963f-cb08-4c48-bb5d-444f42e09707",
   "metadata": {},
   "outputs": [
    {
     "name": "stdout",
     "output_type": "stream",
     "text": [
      "Overwriting files/cycle.dlv\n"
     ]
    }
   ],
   "source": [
    "%%file files/cycle.dlv\n",
    "\n",
    "cycle(X,Y):- edge(X,Y), edge(Y,X), X>Y."
   ]
  },
  {
   "cell_type": "code",
   "execution_count": 11,
   "id": "cebef76c-ab32-4636-8395-3be6aab0fb15",
   "metadata": {},
   "outputs": [
    {
     "data": {
      "text/plain": [
       "4"
      ]
     },
     "execution_count": 11,
     "metadata": {},
     "output_type": "execute_result"
    }
   ],
   "source": [
    "cmd_cycle = 'dlv files/k_graph.dlv files/cycle.dlv -filter=\"cycle\"'\n",
    "count_cycles(run_command(cmd_cycle))"
   ]
  }
 ],
 "metadata": {
  "kernelspec": {
   "display_name": "Python 3 (ipykernel)",
   "language": "python",
   "name": "python3"
  },
  "language_info": {
   "codemirror_mode": {
    "name": "ipython",
    "version": 3
   },
   "file_extension": ".py",
   "mimetype": "text/x-python",
   "name": "python",
   "nbconvert_exporter": "python",
   "pygments_lexer": "ipython3",
   "version": "3.10.4"
  }
 },
 "nbformat": 4,
 "nbformat_minor": 5
}
